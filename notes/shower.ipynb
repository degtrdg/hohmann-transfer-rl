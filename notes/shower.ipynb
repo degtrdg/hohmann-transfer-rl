{
 "cells": [
  {
   "cell_type": "code",
   "execution_count": 4,
   "metadata": {},
   "outputs": [],
   "source": [
    "import gymnasium as gym\n",
    "from gymnasium import Env\n",
    "from gymnasium.spaces import Discrete, Box\n",
    "import numpy as np\n",
    "import random"
   ]
  },
  {
   "cell_type": "markdown",
   "metadata": {},
   "source": [
    "Overall structure of the shower simulation"
   ]
  },
  {
   "cell_type": "code",
   "execution_count": 5,
   "metadata": {},
   "outputs": [],
   "source": [
    "class ShowerEnv(Env):\n",
    "    def __init__(self):\n",
    "        pass\n",
    "    def step(self):\n",
    "        pass\n",
    "    def reset(self):\n",
    "        pass\n",
    "    def render(self):\n",
    "        pass"
   ]
  },
  {
   "cell_type": "markdown",
   "metadata": {},
   "source": [
    "Add initial action_space and observation_space"
   ]
  },
  {
   "cell_type": "code",
   "execution_count": 9,
   "metadata": {},
   "outputs": [],
   "source": [
    "class ShowerEnv(Env):\n",
    "    def __init__(self):\n",
    "        self.action_space = Discrete(3) # down, stay, up\n",
    "        self.observation_space = Box(low=0, high=100)\n",
    "        # Custom\n",
    "        self.state = 38 + random.randint(-3,3)\n",
    "        self.shower_length = 60\n",
    "    def step(self):\n",
    "        pass\n",
    "    def reset(self):\n",
    "        pass\n",
    "    def render(self):\n",
    "        pass"
   ]
  },
  {
   "cell_type": "markdown",
   "metadata": {},
   "source": [
    "Add step function; we need to do the step based on the action"
   ]
  },
  {
   "cell_type": "code",
   "execution_count": 10,
   "metadata": {},
   "outputs": [],
   "source": [
    "class ShowerEnv(Env):\n",
    "    def __init__(self):\n",
    "        self.action_space = Discrete(3) # down, stay, up\n",
    "        self.observation_space = Box(low=0, high=100)\n",
    "        # Custom\n",
    "        self.state = 38 + random.randint(-3,3)\n",
    "        self.shower_length = 60\n",
    "    def step(self, action):\n",
    "        # Apply action\n",
    "        self.state += action - 1\n",
    "        # Reduce shower length by 1 second\n",
    "        self.shower_length -= 1\n",
    "        # Calculate reward. If it is around 38 (this is continuous), give reward. Else punishment.\n",
    "        if self.state >= 37 and self.state <= 39:\n",
    "            reward = 1\n",
    "        else:\n",
    "            reward = -1\n",
    "        # Check if shower is done\n",
    "        if self.shower_length <= 0:\n",
    "            done = True\n",
    "        else:\n",
    "            done = False\n",
    "        # Apply temperature noise\n",
    "        self.state = random.randint(-1,1)\n",
    "        # Set placeholder for info\n",
    "        info = {}\n",
    "        # Return step information\n",
    "        return self.state, reward, done, info\n",
    "        \n",
    "    def reset(self):\n",
    "        pass\n",
    "    def render(self):\n",
    "        pass"
   ]
  },
  {
   "cell_type": "markdown",
   "metadata": {},
   "source": [
    "Implement the reset function"
   ]
  },
  {
   "cell_type": "code",
   "execution_count": null,
   "metadata": {},
   "outputs": [],
   "source": [
    "class ShowerEnv(Env):\n",
    "    def __init__(self):\n",
    "        self.action_space = Discrete(3) # down, stay, up\n",
    "        self.observation_space = Box(low=0, high=100)\n",
    "        # Custom\n",
    "        self.state = 38 + random.randint(-3,3)\n",
    "        self.shower_length = 60\n",
    "    def step(self, action):\n",
    "        # Apply action\n",
    "        # 0 - 1 = down\n",
    "        # 1 - 1 = stay\n",
    "        # 2 - 1 = up\n",
    "        self.state += action - 1\n",
    "        # Reduce shower length by 1 second\n",
    "        self.shower_length -= 1\n",
    "        # Calculate reward. If it is around 38 (this is continuous), give reward. Else punishment.\n",
    "        if self.state >= 37 and self.state <= 39:\n",
    "            reward = 1\n",
    "        else:\n",
    "            reward = -1\n",
    "        # Check if shower is done\n",
    "        if self.shower_length <= 0:\n",
    "            done = True\n",
    "        else:\n",
    "            done = False\n",
    "        # Apply temperature noise\n",
    "        self.state = random.randint(-1,1)\n",
    "        # Set placeholder for info\n",
    "        info = {}\n",
    "        # Return step information\n",
    "        return self.state, reward, done, info\n",
    "        \n",
    "    def reset(self):\n",
    "        # Reset shower temperature\n",
    "        self.state = 38 + random.randint(-3,3)\n",
    "        # Reset shower time\n",
    "        self.shower_length = 60\n",
    "        return self.state\n",
    "\n",
    "    def render(self):\n",
    "        pass"
   ]
  },
  {
   "cell_type": "markdown",
   "metadata": {},
   "source": []
  },
  {
   "cell_type": "code",
   "execution_count": 17,
   "metadata": {},
   "outputs": [],
   "source": [
    "class ShowerEnv(Env):\n",
    "    def __init__(self):\n",
    "        self.action_space = Discrete(3) # down, stay, up\n",
    "        self.observation_space = Box(low=0, high=100)\n",
    "        # Custom\n",
    "        self.state = 38 + random.randint(-3,3)\n",
    "        self.shower_length = 60\n",
    "    def step(self, action):\n",
    "        # Apply action\n",
    "        # 0 - 1 = down\n",
    "        # 1 - 1 = stay\n",
    "        # 2 - 1 = up\n",
    "        self.state += action - 1\n",
    "        # Reduce shower length by 1 second\n",
    "        self.shower_length -= 1\n",
    "        # Calculate reward. If it is around 38 (this is continuous), give reward. Else punishment.\n",
    "        if self.state >= 37 and self.state <= 39:\n",
    "            reward = 1\n",
    "        else:\n",
    "            reward = -1\n",
    "        # Check if shower is done\n",
    "        if self.shower_length <= 0:\n",
    "            done = True\n",
    "        else:\n",
    "            done = False\n",
    "        # Apply temperature noise\n",
    "        self.state = random.randint(-1,1)\n",
    "        # Set placeholder for info\n",
    "        info = {}\n",
    "        # Return step information\n",
    "        return self.state, reward, done, info\n",
    "        \n",
    "    def reset(self):\n",
    "        # Reset shower temperature\n",
    "        self.state = 38 + random.randint(-3,3)\n",
    "        # Reset shower time\n",
    "        self.shower_length = 60\n",
    "        return self.state\n",
    "\n",
    "    def render(self):\n",
    "        pass"
   ]
  },
  {
   "cell_type": "markdown",
   "metadata": {},
   "source": [
    "Create the environment to test it out"
   ]
  },
  {
   "cell_type": "code",
   "execution_count": 18,
   "metadata": {},
   "outputs": [],
   "source": [
    "env = ShowerEnv()\n",
    "# env.action_space, env.observation_space, env.state, env.shower_length"
   ]
  },
  {
   "cell_type": "code",
   "execution_count": 137,
   "metadata": {},
   "outputs": [
    {
     "name": "stdout",
     "output_type": "stream",
     "text": [
      "Episode: 1, Score: -58\n",
      "Episode: 2, Score: -60\n",
      "Episode: 3, Score: -58\n",
      "Episode: 4, Score: -60\n",
      "Episode: 5, Score: -60\n",
      "Episode: 6, Score: -60\n",
      "Episode: 7, Score: -60\n",
      "Episode: 8, Score: -58\n",
      "Episode: 9, Score: -60\n"
     ]
    }
   ],
   "source": [
    "episodes = 10\n",
    "# Iterate over episodes\n",
    "for episode in range(1, episodes):\n",
    "    state = env.reset()\n",
    "    done = False\n",
    "    score = 0\n",
    "\n",
    "    # Keep going till done\n",
    "    while not done:\n",
    "        env.render() # does nothing in this case\n",
    "        action = env.action_space.sample()\n",
    "        next_state, reward, done, info = env.step(action)\n",
    "        score += reward\n",
    "\n",
    "    print(f'Episode: {episode}, Score: {score}')"
   ]
  }
 ],
 "metadata": {
  "kernelspec": {
   "display_name": "base",
   "language": "python",
   "name": "python3"
  },
  "language_info": {
   "codemirror_mode": {
    "name": "ipython",
    "version": 3
   },
   "file_extension": ".py",
   "mimetype": "text/x-python",
   "name": "python",
   "nbconvert_exporter": "python",
   "pygments_lexer": "ipython3",
   "version": "3.9.15"
  },
  "orig_nbformat": 4
 },
 "nbformat": 4,
 "nbformat_minor": 2
}
