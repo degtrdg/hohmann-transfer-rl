{
 "cells": [
  {
   "cell_type": "markdown",
   "metadata": {},
   "source": [
    "Check the action space and observation space of the environment"
   ]
  },
  {
   "cell_type": "code",
   "execution_count": 5,
   "metadata": {},
   "outputs": [
    {
     "name": "stdout",
     "output_type": "stream",
     "text": [
      "Box(-0.1, 0.1, (2,), float32)\n",
      "Box(-inf, inf, (5,), float32)\n"
     ]
    }
   ],
   "source": [
    "from HohmannTransferEnv import HohmannTransferEnv\n",
    "\n",
    "env = HohmannTransferEnv()\n",
    "print(env.action_space)\n",
    "print(env.observation_space)"
   ]
  },
  {
   "cell_type": "markdown",
   "metadata": {},
   "source": [
    "Test the step function of the environment"
   ]
  },
  {
   "cell_type": "code",
   "execution_count": 6,
   "metadata": {},
   "outputs": [
    {
     "ename": "TypeError",
     "evalue": "cannot unpack non-iterable NoneType object",
     "output_type": "error",
     "traceback": [
      "\u001b[0;31m---------------------------------------------------------------------------\u001b[0m",
      "\u001b[0;31mTypeError\u001b[0m                                 Traceback (most recent call last)",
      "Cell \u001b[0;32mIn[6], line 5\u001b[0m\n\u001b[1;32m      3\u001b[0m \u001b[39mfor\u001b[39;00m _ \u001b[39min\u001b[39;00m \u001b[39mrange\u001b[39m(\u001b[39m100\u001b[39m):\n\u001b[1;32m      4\u001b[0m     action \u001b[39m=\u001b[39m env\u001b[39m.\u001b[39maction_space\u001b[39m.\u001b[39msample()\n\u001b[0;32m----> 5\u001b[0m     next_state, reward, done, _ \u001b[39m=\u001b[39m env\u001b[39m.\u001b[39mstep(action)\n\u001b[1;32m      6\u001b[0m     \u001b[39mprint\u001b[39m(\u001b[39m\"\u001b[39m\u001b[39mNext state: \u001b[39m\u001b[39m\"\u001b[39m, next_state, \u001b[39m\"\u001b[39m\u001b[39mReward: \u001b[39m\u001b[39m\"\u001b[39m, reward, \u001b[39m\"\u001b[39m\u001b[39mDone: \u001b[39m\u001b[39m\"\u001b[39m, done)\n\u001b[1;32m      7\u001b[0m     \u001b[39mif\u001b[39;00m done:\n",
      "\u001b[0;31mTypeError\u001b[0m: cannot unpack non-iterable NoneType object"
     ]
    }
   ],
   "source": [
    "env = HohmannTransferEnv()\n",
    "env.reset()\n",
    "for _ in range(100):\n",
    "    action = env.action_space.sample()\n",
    "    print(\"Action: \", action)\n",
    "    next_state, reward, done, _ = env.step(action)\n",
    "    print(\"Next state: \", next_state, \"Reward: \", reward, \"Done: \", done)\n",
    "    if done:\n",
    "        break"
   ]
  },
  {
   "cell_type": "markdown",
   "metadata": {},
   "source": [
    "I don't really understand how the step function works. \n",
    "Let's think step by step what we're trying to do and what we need to do it.\n",
    "- We're at a certain state\n",
    "  - This includes\n",
    "    - position and velocity of the spacecraft in both x and y directions\n",
    "    - gravitational force\n",
    "- We have 2 actions available to us\n",
    "  - thrust in x direction\n",
    "  - thrust in y direction\n",
    "- We want to get to the next state\n",
    "  - We need to calculate the new position and velocity of the spacecraft\n",
    "    - We need to know if we've crashed\n",
    "      - I don't see a definition of where the earth is and how big it is in the environment\n",
    "        - We need to add the following constraints:\n",
    "          - The radius of the earth will be 10 units and it will be positioned at the origin (we might need to decrease maximum thrust). If the rocket enters this region or is more than 100 units away from the origin, the environment terminates.\n",
    "- Let's say that we're at a state \n",
    "- We need to solve an ODE to get to the next state."
   ]
  },
  {
   "cell_type": "markdown",
   "metadata": {},
   "source": [
    "The state of the system includes the position and velocity of the spacecraft in both the x and y directions, and the gravitational force acting on the spacecraft. The actions you have available are thrusts in the x and y directions.\n",
    "\n",
    "Now, how do you get from one state to the next given a certain action? This is defined by the dynamics of the system, which in this case are given by the differential equation:\n",
    "$$\\ddot{\\mathbf{x}} = \\frac{G M_E}{|\\mathbf{x}|^3}\\mathbf{x} + a$$\n",
    "\n",
    "Here:\n",
    "\n",
    "$\\ddot{\\mathbf{x}}$ is the second derivative of the position vector, which represents the acceleration of the spacecraft.\n",
    "$G$ is the gravitational constant, $M_E$ is the mass of the Earth, and $|\\mathbf{x}|$ is the distance from the spacecraft to the center of the Earth.\n",
    "$\\mathbf{x}$ is the position vector of the spacecraft.\n",
    "$a$ is the acceleration due to the thrust of the spacecraft.\n",
    "The left-hand side of the equation represents the total acceleration of the spacecraft, and the right-hand side represents the forces acting on the spacecraft (gravity and thrust), divided by the mass of the spacecraft to get acceleration (from F=ma).\n",
    "\n",
    "This is a second-order differential equation because it involves the second derivative of the position. Most numerical solvers, like the solve_ivp function from SciPy, can only solve first-order differential equations. Therefore, we need to convert this second-order equation into a system of first-order equations.\n",
    "\n",
    "This is done by introducing new variables: $\\mathbf{y}_1$ represents the position, $\\mathbf{y}_2$ represents the velocity, and $\\mathbf{y}_3$ represents the acceleration. Now, we have three first-order differential equations:\n",
    "\n",
    "$\\mathbf{y}_1 = \\mathbf{x}$: The position.\n",
    "\n",
    "$\\mathbf{y}_2 = \\dot{\\mathbf{y}}_1$: The rate of change of position is the velocity.\n",
    "\n",
    "$\\mathbf{y}_3 = \\frac{G M_E}{|\\mathbf{y}_1|^3}\\mathbf{y}_1 + a$: This is the original differential equation, but written in terms of $\\mathbf{y}_1$ instead of $\\mathbf{x}$.\n",
    "\n",
    "Given the current state of the system (the position, velocity, and gravitational force), and a certain action (the thrust), you can solve these differential equations over a short time interval to find the state of the system at the next time step.\n",
    "\n",
    "To check if the spacecraft has crashed, you calculate the distance from the spacecraft to the center of the Earth (which is at the origin of your coordinate system) and check if it's less than the radius of the Earth (10 units in your case), or if it's more than 100 units away.\n",
    "\n",
    "Here is a step-by-step example:\n",
    "\n",
    "Let's say the spacecraft is initially at position (x, y) = (15, 0) with velocity (vx, vy) = (0, 1) and the gravitational force Fg is 0.02. So your state is [15, 0, 0, 1, 0.02].\n",
    "\n",
    "The action chosen by the agent is to thrust with (ax, ay) = (0.05, 0). This is the acceleration due to thrust.\n",
    "\n",
    "Define the system of first-order ODEs as explained above.\n",
    "\n",
    "Use solve_ivp to solve these ODEs over a 1-second interval. The output of solve_ivp gives you the state of the system at the next time step.\n",
    "\n",
    "Check if the new position of the spacecraft is within the Earth's radius or more than 100 units away. If it is, the episode is done.\n",
    "\n",
    "Repeat steps 2-5 for the next action until the episode is done.\n",
    "\n",
    "In your current code, you have already implemented these steps in the step function. However, the differential equation in your ode function might be slightly incorrect, it should be:"
   ]
  }
 ],
 "metadata": {
  "kernelspec": {
   "display_name": "base",
   "language": "python",
   "name": "python3"
  },
  "language_info": {
   "codemirror_mode": {
    "name": "ipython",
    "version": 3
   },
   "file_extension": ".py",
   "mimetype": "text/x-python",
   "name": "python",
   "nbconvert_exporter": "python",
   "pygments_lexer": "ipython3",
   "version": "3.9.15"
  },
  "orig_nbformat": 4
 },
 "nbformat": 4,
 "nbformat_minor": 2
}
