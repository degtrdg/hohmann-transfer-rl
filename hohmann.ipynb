{
 "cells": [
  {
   "cell_type": "code",
   "execution_count": null,
   "metadata": {},
   "outputs": [],
   "source": [
    "from HohmannTransferEnv import HohmannTransferEnv\n",
    "\n",
    "env = HohmannTransferEnv()\n",
    "print(env.action_space)\n",
    "print(env.observation_space)"
   ]
  }
 ],
 "metadata": {
  "language_info": {
   "name": "python"
  },
  "orig_nbformat": 4
 },
 "nbformat": 4,
 "nbformat_minor": 2
}
